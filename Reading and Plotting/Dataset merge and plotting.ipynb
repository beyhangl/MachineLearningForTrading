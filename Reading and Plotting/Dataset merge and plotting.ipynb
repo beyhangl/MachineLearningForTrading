{
 "cells": [
  {
   "cell_type": "code",
   "execution_count": 2,
   "metadata": {
    "collapsed": false
   },
   "outputs": [],
   "source": [
    "import pandas as pd\n",
    "def test_run():\n",
    "    df=pd.read_csv(\"/home/beyhan/MachineLearningForTrading/data/AAPL.csv\")\n",
    "    print df[10:21]#rows between 10 and 20\n"
   ]
  },
  {
   "cell_type": "code",
   "execution_count": 3,
   "metadata": {
    "collapsed": false
   },
   "outputs": [
    {
     "name": "stdout",
     "output_type": "stream",
     "text": [
      "          Date    Open    High     Low   Close    Volume  Adj Close\n",
      "10  2012-08-28  674.98  676.10  670.67  674.80   9550600     674.80\n",
      "11  2012-08-27  679.99  680.87  673.54  675.68  15250300     675.68\n",
      "12  2012-08-24  659.51  669.48  655.55  663.22  15619300     663.22\n",
      "13  2012-08-23  666.11  669.90  661.15  662.63  15004600     662.63\n",
      "14  2012-08-22  654.42  669.00  648.11  668.87  20190100     668.87\n",
      "15  2012-08-21  670.82  674.88  650.33  656.06  29025700     656.06\n",
      "16  2012-08-20  650.01  665.15  649.90  665.15  21906600     665.15\n",
      "17  2012-08-17  640.00  648.19  638.81  648.11  15812900     648.11\n",
      "18  2012-08-16  631.21  636.76  630.50  636.34   9090500     636.34\n",
      "19  2012-08-15  631.30  634.00  627.75  630.83   9190800     630.83\n",
      "20  2012-08-14  631.87  638.61  630.21  631.69  12148900     631.69\n"
     ]
    }
   ],
   "source": [
    "test_run()"
   ]
  },
  {
   "cell_type": "code",
   "execution_count": 13,
   "metadata": {
    "collapsed": false
   },
   "outputs": [],
   "source": [
    "def get_max_close(symbol):\n",
    "    \"\"\"Return the maximum closing value for stock data.\n",
    "    \"\"\"\n",
    "    df=pd.read_csv(\"/home/beyhan/MachineLearningForTrading/data/{}.csv\".format(symbol))\n",
    "    return df['Close'].max()\n",
    "    ##return df['Volume'].mean()\n",
    "\n",
    "def test_run():\n",
    "    for symbol in ['AAPL','IBM']:\n",
    "        print \"Max close\"\n",
    "        print symbol,get_max_close(symbol)"
   ]
  },
  {
   "cell_type": "raw",
   "metadata": {},
   "source": [
    "Plotting"
   ]
  },
  {
   "cell_type": "code",
   "execution_count": 71,
   "metadata": {
    "collapsed": false
   },
   "outputs": [
    {
     "data": {
      "image/png": "[encoded data removed]",
      "text/plain": [
       "<matplotlib.figure.Figure at 0x7f3ba3041f10>"
      ]
     },
     "metadata": {},
     "output_type": "display_data"
    }
   ],
   "source": [
    "import matplotlib.pyplot as plt\n",
    "%matplotlib inline\n",
    "\n",
    "df=pd.read_csv(\"/home/beyhan/MachineLearningForTrading/data/AAPL.csv\")\n",
    "df[['Adj Close','High']].plot()\n",
    "\n",
    "plt.show()"
   ]
  },
  {
   "cell_type": "code",
   "execution_count": null,
   "metadata": {
    "collapsed": false
   },
   "outputs": [],
   "source": [
    "##Create empty dataframe"
   ]
  },
  {
   "cell_type": "code",
   "execution_count": 28,
   "metadata": {
    "collapsed": true
   },
   "outputs": [],
   "source": [
    "def create_empty_df():\n",
    "    start_date='2010-01-22'\n",
    "    end_date='2010-01-26'\n",
    "    dates=pd.date_range(start_date,end_date)\n",
    "    df1=pd.DataFrame(index=dates)\n",
    "    return df1"
   ]
  },
  {
   "cell_type": "code",
   "execution_count": 30,
   "metadata": {
    "collapsed": false
   },
   "outputs": [
    {
     "data": {
      "text/html": [
       "<div>\n",
       "<table border=\"1\" class=\"dataframe\">\n",
       "  <thead>\n",
       "    <tr style=\"text-align: right;\">\n",
       "      <th></th>\n",
       "    </tr>\n",
       "  </thead>\n",
       "  <tbody>\n",
       "    <tr>\n",
       "      <th>2010-01-22</th>\n",
       "    </tr>\n",
       "    <tr>\n",
       "      <th>2010-01-23</th>\n",
       "    </tr>\n",
       "    <tr>\n",
       "      <th>2010-01-24</th>\n",
       "    </tr>\n",
       "    <tr>\n",
       "      <th>2010-01-25</th>\n",
       "    </tr>\n",
       "    <tr>\n",
       "      <th>2010-01-26</th>\n",
       "    </tr>\n",
       "  </tbody>\n",
       "</table>\n",
       "</div>"
      ],
      "text/plain": [
       "Empty DataFrame\n",
       "Columns: []\n",
       "Index: [2010-01-22 00:00:00, 2010-01-23 00:00:00, 2010-01-24 00:00:00, 2010-01-25 00:00:00, 2010-01-26 00:00:00]"
      ]
     },
     "execution_count": 30,
     "metadata": {},
     "output_type": "execute_result"
    }
   ],
   "source": [
    "df1=create_empty_df()\n",
    "df1"
   ]
  },
  {
   "cell_type": "code",
   "execution_count": 65,
   "metadata": {
    "collapsed": true
   },
   "outputs": [],
   "source": [
    "def create_empty_df():\n",
    "    start_date='2010-01-22'\n",
    "    end_date='2010-01-26'\n",
    "    dates=pd.date_range(start_date,end_date)\n",
    "    df1=pd.DataFrame(index=dates)\n",
    "    dfSPY=pd.read_csv(\"/home/beyhan/MachineLearningForTrading/data/SPY.csv\",index_col=\"Date\",parse_dates=True,\n",
    "                     usecols=['Date','Adj Close','High'],na_values=['nan'])\n",
    "    df1=df1.join(dfSPY)\n",
    "    df1=df1.dropna()\n",
    "    return df1"
   ]
  },
  {
   "cell_type": "code",
   "execution_count": 66,
   "metadata": {
    "collapsed": false
   },
   "outputs": [
    {
     "name": "stdout",
     "output_type": "stream",
     "text": [
      "              High  Adj Close\n",
      "2010-01-22  111.74     104.34\n",
      "2010-01-25  110.41     104.87\n",
      "2010-01-26  110.47     104.43\n"
     ]
    }
   ],
   "source": [
    "df1=create_empty_df()\n",
    "print df1"
   ]
  },
  {
   "cell_type": "code",
   "execution_count": null,
   "metadata": {
    "collapsed": true
   },
   "outputs": [],
   "source": []
  },
  {
   "cell_type": "code",
   "execution_count": 61,
   "metadata": {
    "collapsed": false
   },
   "outputs": [
    {
     "data": {
      "text/html": [
       "<div>\n",
       "<table border=\"1\" class=\"dataframe\">\n",
       "  <thead>\n",
       "    <tr style=\"text-align: right;\">\n",
       "      <th></th>\n",
       "      <th>High</th>\n",
       "    </tr>\n",
       "  </thead>\n",
       "  <tbody>\n",
       "    <tr>\n",
       "      <th>2010-01-22</th>\n",
       "      <td>111.74</td>\n",
       "    </tr>\n",
       "    <tr>\n",
       "      <th>2010-01-25</th>\n",
       "      <td>110.41</td>\n",
       "    </tr>\n",
       "  </tbody>\n",
       "</table>\n",
       "</div>"
      ],
      "text/plain": [
       "              High\n",
       "2010-01-22  111.74\n",
       "2010-01-25  110.41"
      ]
     },
     "execution_count": 61,
     "metadata": {},
     "output_type": "execute_result"
    }
   ],
   "source": [
    "df1.ix['2010-01-22':'2010-01-25',['High']]"
   ]
  },
  {
   "cell_type": "code",
   "execution_count": 73,
   "metadata": {
    "collapsed": true
   },
   "outputs": [],
   "source": [
    "def normalize_data(df):\n",
    "    return df/df.ix[0,:]"
   ]
  },
  {
   "cell_type": "code",
   "execution_count": 80,
   "metadata": {
    "collapsed": false
   },
   "outputs": [],
   "source": [
    "indexed_df = df.set_index(['Date'])\n"
   ]
  },
  {
   "cell_type": "code",
   "execution_count": 82,
   "metadata": {
    "collapsed": false
   },
   "outputs": [
    {
     "data": {
      "text/plain": [
       "<matplotlib.axes._subplots.AxesSubplot at 0x7f3bac062d50>"
      ]
     },
     "execution_count": 82,
     "metadata": {},
     "output_type": "execute_result"
    },
    {
     "data": {
      "image/png": "[encoded data removed]",
      "text/plain": [
       "<matplotlib.figure.Figure at 0x7f3ba319a490>"
      ]
     },
     "metadata": {},
     "output_type": "display_data"
    }
   ],
   "source": [
    "indexed_df=normalize_data(indexed_df)\n",
    "indexed_df.plot()"
   ]
  }
 ],
 "metadata": {
  "kernelspec": {
   "display_name": "Python 2",
   "language": "python",
   "name": "python2"
  },
  "language_info": {
   "codemirror_mode": {
    "name": "ipython",
    "version": 2
   },
   "file_extension": ".py",
   "mimetype": "text/x-python",
   "name": "python",
   "nbconvert_exporter": "python",
   "pygments_lexer": "ipython2",
   "version": "2.7.6"
  }
 },
 "nbformat": 4,
 "nbformat_minor": 0
}
